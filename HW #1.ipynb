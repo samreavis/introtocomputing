{
 "cells": [
  {
   "cell_type": "code",
   "execution_count": 25,
   "id": "fcf7f319",
   "metadata": {},
   "outputs": [
    {
     "name": "stdout",
     "output_type": "stream",
     "text": [
      "[30, 35, 40, 45, 50, 55, 60]\n",
      "[60, 55, 50, 45, 40, 35, 30]\n"
     ]
    },
    {
     "data": {
      "text/plain": [
       "[65, 60, 55, 50, 45, 40, 35, 30]"
      ]
     },
     "execution_count": 25,
     "metadata": {},
     "output_type": "execute_result"
    }
   ],
   "source": [
    "#1\n",
    "\n",
    "nums = list(range(30, 65, 5))\n",
    "print(nums)\n",
    "\n",
    "nums_mod = nums[::-1]\n",
    "print(nums_mod)\n",
    "\n",
    "a = [65]\n",
    "a + nums_mod\n"
   ]
  },
  {
   "cell_type": "code",
   "execution_count": 9,
   "id": "0142c10c",
   "metadata": {},
   "outputs": [
    {
     "name": "stdout",
     "output_type": "stream",
     "text": [
      "[1, 2, 3, 4, 5, 6, 7, 8, 9, 10, 11, 12, 13, 14, 15, 16, 17, 18, 19, 20]\n",
      "20\n",
      "20\n",
      "1\n",
      "210\n"
     ]
    }
   ],
   "source": [
    "#2\n",
    "nums2 = list(range(21))\n",
    "nums2\n",
    "\n",
    "nums2.remove(0)\n",
    "print(nums2)\n",
    "\n",
    "print(len(nums2))\n",
    "print(max(nums2))\n",
    "print(min(nums2))\n",
    "\n",
    "sum1 = sum(nums2)\n",
    "print(sum1)"
   ]
  },
  {
   "cell_type": "code",
   "execution_count": 21,
   "id": "d1bd5c40",
   "metadata": {},
   "outputs": [
    {
     "name": "stdout",
     "output_type": "stream",
     "text": [
      "{'Sunny': 'play', 'Rainy': 'watch TV', 'Cloudy': 'Walk'}\n",
      "When Sunny let us play\n",
      "When Rainy let us watch TV\n",
      "When Cloudy let us Walk\n",
      "When Sunny let us play\n",
      "When Rainy let us watch TV\n",
      "When Cloudy let us Walk\n",
      "When Snowy let us Ski\n"
     ]
    }
   ],
   "source": [
    "#3\n",
    "mydict = {\"Sunny\": \"play\", \"Rainy\": \"watch TV\", \"Cloudy\": \"Walk\"}\n",
    "print(mydict)\n",
    "\n",
    "for key in mydict:\n",
    "    print(\"When\", key, \"let us\", mydict[key])\n",
    "\n",
    "mydict.update({\"Snowy\": \"Ski\"})\n",
    "for key in mydict:\n",
    "     print(\"When\", key, \"let us\", mydict[key])\n"
   ]
  }
 ],
 "metadata": {
  "kernelspec": {
   "display_name": "Python 3",
   "language": "python",
   "name": "python3"
  },
  "language_info": {
   "codemirror_mode": {
    "name": "ipython",
    "version": 3
   },
   "file_extension": ".py",
   "mimetype": "text/x-python",
   "name": "python",
   "nbconvert_exporter": "python",
   "pygments_lexer": "ipython3",
   "version": "3.8.8"
  }
 },
 "nbformat": 4,
 "nbformat_minor": 5
}
