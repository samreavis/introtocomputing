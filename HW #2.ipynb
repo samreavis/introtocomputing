{
 "cells": [
  {
   "cell_type": "code",
   "execution_count": 20,
   "id": "6ee4c0e3",
   "metadata": {},
   "outputs": [
    {
     "name": "stdout",
     "output_type": "stream",
     "text": [
      "0\n",
      "1\n",
      "2\n",
      "3\n",
      "4\n"
     ]
    }
   ],
   "source": [
    "#1\n",
    "n = 0\n",
    "while n < 10:\n",
    "    print(n)\n",
    "    if n == 4:\n",
    "        break\n",
    "    n = n + 1\n",
    "\n"
   ]
  },
  {
   "cell_type": "code",
   "execution_count": 21,
   "id": "1fd9c738",
   "metadata": {},
   "outputs": [
    {
     "name": "stdout",
     "output_type": "stream",
     "text": [
      "0\n",
      "1\n",
      "2\n",
      "3\n",
      "4\n",
      "5 is not less than 5\n"
     ]
    }
   ],
   "source": [
    "#2\n",
    "count = 0\n",
    "while count < 5:\n",
    "    print(count)\n",
    "    count = count +1\n",
    "else:\n",
    "    print(count, \"is not less than 5\")\n",
    "    \n"
   ]
  },
  {
   "cell_type": "code",
   "execution_count": 79,
   "id": "e47b9c94",
   "metadata": {},
   "outputs": [
    {
     "name": "stdout",
     "output_type": "stream",
     "text": [
      "I like banana\n",
      "I like orange\n",
      "apple is really a fruit?\n"
     ]
    }
   ],
   "source": [
    "#3\n",
    "fruits = [\"banana\", \"orange\", \"apple\"]\n",
    "for f in fruits:\n",
    "    if f == \"apple\":\n",
    "        print(f, \"is really a fruit?\")\n",
    "    else:\n",
    "        print(\"I like\", f)\n",
    "        \n"
   ]
  },
  {
   "cell_type": "code",
   "execution_count": 38,
   "id": "2a25c22a",
   "metadata": {},
   "outputs": [
    {
     "name": "stdout",
     "output_type": "stream",
     "text": [
      "465\n"
     ]
    }
   ],
   "source": [
    "#4\n",
    "number = 30\n",
    "sum = 0\n",
    "s = 1\n",
    "\n",
    "while s <= number:\n",
    "    sum = sum + s\n",
    "    s = s+1\n",
    "\n",
    "print(sum)\n",
    "    \n"
   ]
  },
  {
   "cell_type": "code",
   "execution_count": 10,
   "id": "ea25d2c8",
   "metadata": {},
   "outputs": [
    {
     "name": "stdout",
     "output_type": "stream",
     "text": [
      "B\n"
     ]
    }
   ],
   "source": [
    "#5\n",
    "grade = 89\n",
    "if grade >= 90:\n",
    "    print(\"A\")\n",
    "elif grade >= 80:\n",
    "    print(\"B\")\n",
    "elif grade >= 70:\n",
    "    print(\"C\")\n",
    "elif grade >= 60:\n",
    "    print(\"D\")\n",
    "else:\n",
    "    print(\"F\")\n",
    "    \n"
   ]
  },
  {
   "cell_type": "code",
   "execution_count": 60,
   "id": "5cbd1a0b",
   "metadata": {},
   "outputs": [
    {
     "name": "stdout",
     "output_type": "stream",
     "text": [
      "Andy 89\n",
      "Amy 89\n",
      "James 89\n",
      "Jules 89\n",
      "Arthur 89\n",
      "75.2\n",
      "55\n",
      "90\n"
     ]
    }
   ],
   "source": [
    "#6\n",
    "\n",
    "marks = {'Andy':88, 'Amy':66, 'James': 90, 'Jules': 55, 'Arthur': 77}\n",
    "\n",
    "#a\n",
    "for name in marks:\n",
    "    print(name, grade)\n",
    "\n",
    "#b\n",
    "\n",
    "import statistics\n",
    "print(statistics.mean(marks.values()))\n",
    "print(min(marks.values()))\n",
    "print(max(marks.values()))\n"
   ]
  },
  {
   "cell_type": "code",
   "execution_count": 76,
   "id": "ec3921b1",
   "metadata": {},
   "outputs": [
    {
     "name": "stdout",
     "output_type": "stream",
     "text": [
      "Andy\n",
      "Amy\n",
      "Andy\n",
      "Amy\n",
      "Arthur\n"
     ]
    }
   ],
   "source": [
    "#c\n",
    "marks = {'Andy':88, 'Amy':66, 'James': 90, 'Jules': 55, 'Arthur': 77}\n",
    "\n",
    "for i in marks :\n",
    "    if 'J' in i:\n",
    "        break\n",
    "    print(i)\n",
    "\n",
    "\n",
    "#d\n",
    "\n",
    "for i in marks :\n",
    "    if 'J' in i:\n",
    "        continue\n",
    "    print(i)\n"
   ]
  }
 ],
 "metadata": {
  "kernelspec": {
   "display_name": "Python 3",
   "language": "python",
   "name": "python3"
  }
 },
 "nbformat": 4,
 "nbformat_minor": 5
}
